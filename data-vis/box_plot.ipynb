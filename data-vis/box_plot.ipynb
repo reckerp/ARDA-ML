{
 "cells": [
  {
   "cell_type": "code",
   "execution_count": 4,
   "id": "initial_id",
   "metadata": {
    "collapsed": true,
    "ExecuteTime": {
     "end_time": "2023-12-04T11:16:52.606666Z",
     "start_time": "2023-12-04T11:16:52.582456Z"
    }
   },
   "outputs": [],
   "source": [
    "import json\n",
    "import pandas as pd\n",
    "import numpy as np\n",
    "import pandas as pd\n",
    "import os\n",
    "\n",
    "import matplotlib.pyplot as plt"
   ]
  },
  {
   "cell_type": "code",
   "execution_count": 5,
   "outputs": [],
   "source": [
    "# find all the data for each iteration, sort in ascending order\n",
    "# create new csv file with all the acc. for eahc iteration  \n",
    "# find the median of this "
   ],
   "metadata": {
    "collapsed": false,
    "ExecuteTime": {
     "end_time": "2023-12-04T11:16:52.608374Z",
     "start_time": "2023-12-04T11:16:52.594446Z"
    }
   },
   "id": "883a445206ac4486"
  },
  {
   "cell_type": "code",
   "execution_count": 6,
   "outputs": [
    {
     "ename": "KeyError",
     "evalue": "\"The following 'id_vars' are not present in the DataFrame: ['Iteration ']\"",
     "output_type": "error",
     "traceback": [
      "\u001B[0;31m---------------------------------------------------------------------------\u001B[0m",
      "\u001B[0;31mKeyError\u001B[0m                                  Traceback (most recent call last)",
      "Cell \u001B[0;32mIn[6], line 23\u001B[0m\n\u001B[1;32m     20\u001B[0m df\u001B[38;5;241m.\u001B[39mcolumns \u001B[38;5;241m=\u001B[39m df\u001B[38;5;241m.\u001B[39mcolumns\u001B[38;5;241m.\u001B[39mstr\u001B[38;5;241m.\u001B[39mstrip()\u001B[38;5;241m.\u001B[39mstr\u001B[38;5;241m.\u001B[39mcapitalize()\n\u001B[1;32m     22\u001B[0m \u001B[38;5;66;03m# Reshape the DataFrame to have 'Iteration' and 'Accuracy' columns\u001B[39;00m\n\u001B[0;32m---> 23\u001B[0m melted_df \u001B[38;5;241m=\u001B[39m \u001B[43mdf\u001B[49m\u001B[38;5;241;43m.\u001B[39;49m\u001B[43mmelt\u001B[49m\u001B[43m(\u001B[49m\u001B[43mid_vars\u001B[49m\u001B[38;5;241;43m=\u001B[39;49m\u001B[43m[\u001B[49m\u001B[38;5;124;43m'\u001B[39;49m\u001B[38;5;124;43mIteration \u001B[39;49m\u001B[38;5;124;43m'\u001B[39;49m\u001B[43m]\u001B[49m\u001B[43m,\u001B[49m\u001B[43m \u001B[49m\u001B[43mvalue_name\u001B[49m\u001B[38;5;241;43m=\u001B[39;49m\u001B[38;5;124;43m'\u001B[39;49m\u001B[38;5;124;43mAccuracy\u001B[39;49m\u001B[38;5;124;43m'\u001B[39;49m\u001B[43m)\u001B[49m\u001B[38;5;241m.\u001B[39mdrop(\u001B[38;5;124m'\u001B[39m\u001B[38;5;124mVariable\u001B[39m\u001B[38;5;124m'\u001B[39m, axis\u001B[38;5;241m=\u001B[39m\u001B[38;5;241m1\u001B[39m)\n\u001B[1;32m     25\u001B[0m \u001B[38;5;66;03m# Append the accuracy values to the list, preserving the iteration order\u001B[39;00m\n\u001B[1;32m     26\u001B[0m accuracies\u001B[38;5;241m.\u001B[39mextend(melted_df\u001B[38;5;241m.\u001B[39mgroupby(\u001B[38;5;124m'\u001B[39m\u001B[38;5;124mIteration\u001B[39m\u001B[38;5;124m'\u001B[39m)[\u001B[38;5;124m'\u001B[39m\u001B[38;5;124mAccuracy\u001B[39m\u001B[38;5;124m'\u001B[39m]\u001B[38;5;241m.\u001B[39mapply(\u001B[38;5;28mlist\u001B[39m))\n",
      "File \u001B[0;32m~/Desktop/ARDA-ML/data-vis/venv/lib/python3.9/site-packages/pandas/core/frame.py:9636\u001B[0m, in \u001B[0;36mDataFrame.melt\u001B[0;34m(self, id_vars, value_vars, var_name, value_name, col_level, ignore_index)\u001B[0m\n\u001B[1;32m   9626\u001B[0m \u001B[38;5;129m@Appender\u001B[39m(_shared_docs[\u001B[38;5;124m\"\u001B[39m\u001B[38;5;124mmelt\u001B[39m\u001B[38;5;124m\"\u001B[39m] \u001B[38;5;241m%\u001B[39m {\u001B[38;5;124m\"\u001B[39m\u001B[38;5;124mcaller\u001B[39m\u001B[38;5;124m\"\u001B[39m: \u001B[38;5;124m\"\u001B[39m\u001B[38;5;124mdf.melt(\u001B[39m\u001B[38;5;124m\"\u001B[39m, \u001B[38;5;124m\"\u001B[39m\u001B[38;5;124mother\u001B[39m\u001B[38;5;124m\"\u001B[39m: \u001B[38;5;124m\"\u001B[39m\u001B[38;5;124mmelt\u001B[39m\u001B[38;5;124m\"\u001B[39m})\n\u001B[1;32m   9627\u001B[0m \u001B[38;5;28;01mdef\u001B[39;00m \u001B[38;5;21mmelt\u001B[39m(\n\u001B[1;32m   9628\u001B[0m     \u001B[38;5;28mself\u001B[39m,\n\u001B[0;32m   (...)\u001B[0m\n\u001B[1;32m   9634\u001B[0m     ignore_index: \u001B[38;5;28mbool\u001B[39m \u001B[38;5;241m=\u001B[39m \u001B[38;5;28;01mTrue\u001B[39;00m,\n\u001B[1;32m   9635\u001B[0m ) \u001B[38;5;241m-\u001B[39m\u001B[38;5;241m>\u001B[39m DataFrame:\n\u001B[0;32m-> 9636\u001B[0m     \u001B[38;5;28;01mreturn\u001B[39;00m \u001B[43mmelt\u001B[49m\u001B[43m(\u001B[49m\n\u001B[1;32m   9637\u001B[0m \u001B[43m        \u001B[49m\u001B[38;5;28;43mself\u001B[39;49m\u001B[43m,\u001B[49m\n\u001B[1;32m   9638\u001B[0m \u001B[43m        \u001B[49m\u001B[43mid_vars\u001B[49m\u001B[38;5;241;43m=\u001B[39;49m\u001B[43mid_vars\u001B[49m\u001B[43m,\u001B[49m\n\u001B[1;32m   9639\u001B[0m \u001B[43m        \u001B[49m\u001B[43mvalue_vars\u001B[49m\u001B[38;5;241;43m=\u001B[39;49m\u001B[43mvalue_vars\u001B[49m\u001B[43m,\u001B[49m\n\u001B[1;32m   9640\u001B[0m \u001B[43m        \u001B[49m\u001B[43mvar_name\u001B[49m\u001B[38;5;241;43m=\u001B[39;49m\u001B[43mvar_name\u001B[49m\u001B[43m,\u001B[49m\n\u001B[1;32m   9641\u001B[0m \u001B[43m        \u001B[49m\u001B[43mvalue_name\u001B[49m\u001B[38;5;241;43m=\u001B[39;49m\u001B[43mvalue_name\u001B[49m\u001B[43m,\u001B[49m\n\u001B[1;32m   9642\u001B[0m \u001B[43m        \u001B[49m\u001B[43mcol_level\u001B[49m\u001B[38;5;241;43m=\u001B[39;49m\u001B[43mcol_level\u001B[49m\u001B[43m,\u001B[49m\n\u001B[1;32m   9643\u001B[0m \u001B[43m        \u001B[49m\u001B[43mignore_index\u001B[49m\u001B[38;5;241;43m=\u001B[39;49m\u001B[43mignore_index\u001B[49m\u001B[43m,\u001B[49m\n\u001B[1;32m   9644\u001B[0m \u001B[43m    \u001B[49m\u001B[43m)\u001B[49m\u001B[38;5;241m.\u001B[39m__finalize__(\u001B[38;5;28mself\u001B[39m, method\u001B[38;5;241m=\u001B[39m\u001B[38;5;124m\"\u001B[39m\u001B[38;5;124mmelt\u001B[39m\u001B[38;5;124m\"\u001B[39m)\n",
      "File \u001B[0;32m~/Desktop/ARDA-ML/data-vis/venv/lib/python3.9/site-packages/pandas/core/reshape/melt.py:69\u001B[0m, in \u001B[0;36mmelt\u001B[0;34m(frame, id_vars, value_vars, var_name, value_name, col_level, ignore_index)\u001B[0m\n\u001B[1;32m     67\u001B[0m         missing \u001B[38;5;241m=\u001B[39m Index(com\u001B[38;5;241m.\u001B[39mflatten(id_vars))\u001B[38;5;241m.\u001B[39mdifference(cols)\n\u001B[1;32m     68\u001B[0m         \u001B[38;5;28;01mif\u001B[39;00m \u001B[38;5;129;01mnot\u001B[39;00m missing\u001B[38;5;241m.\u001B[39mempty:\n\u001B[0;32m---> 69\u001B[0m             \u001B[38;5;28;01mraise\u001B[39;00m \u001B[38;5;167;01mKeyError\u001B[39;00m(\n\u001B[1;32m     70\u001B[0m                 \u001B[38;5;124m\"\u001B[39m\u001B[38;5;124mThe following \u001B[39m\u001B[38;5;124m'\u001B[39m\u001B[38;5;124mid_vars\u001B[39m\u001B[38;5;124m'\u001B[39m\u001B[38;5;124m are not present \u001B[39m\u001B[38;5;124m\"\u001B[39m\n\u001B[1;32m     71\u001B[0m                 \u001B[38;5;124mf\u001B[39m\u001B[38;5;124m\"\u001B[39m\u001B[38;5;124min the DataFrame: \u001B[39m\u001B[38;5;132;01m{\u001B[39;00m\u001B[38;5;28mlist\u001B[39m(missing)\u001B[38;5;132;01m}\u001B[39;00m\u001B[38;5;124m\"\u001B[39m\n\u001B[1;32m     72\u001B[0m             )\n\u001B[1;32m     73\u001B[0m \u001B[38;5;28;01melse\u001B[39;00m:\n\u001B[1;32m     74\u001B[0m     id_vars \u001B[38;5;241m=\u001B[39m []\n",
      "\u001B[0;31mKeyError\u001B[0m: \"The following 'id_vars' are not present in the DataFrame: ['Iteration ']\""
     ]
    }
   ],
   "source": [
    "import pandas as pd\n",
    "\n",
    "file_paths = [\n",
    "    '../Data/ARDA ML - Dog.csv',\n",
    "    '../Data/ARDA ML - Person.csv',\n",
    "    '../Data/ARDA ML - Plant.csv',\n",
    "    '../Data/ARDA ML - Wheel.csv',\n",
    "    '../Data/ARDA ML - Boat.csv'\n",
    "]\n",
    "\n",
    "# Initialize an empty DataFrame to hold the combined accuracies\n",
    "accuracies = []\n",
    "\n",
    "# Loop through each file path\n",
    "for file_path in file_paths:\n",
    "    # Read the data into a DataFrame\n",
    "    df = pd.read_csv(file_path)\n",
    "    \n",
    "    # Correcting the column names if they have trailing whitespaces or different casing\n",
    "    df.columns = df.columns.str.strip().str.capitalize()\n",
    "    \n",
    "    # Reshape the DataFrame to have 'Iteration' and 'Accuracy' columns\n",
    "    melted_df = df.melt(id_vars=['Iteration '], value_name='Accuracy').drop('Variable', axis=1)\n",
    "    \n",
    "    # Append the accuracy values to the list, preserving the iteration order\n",
    "    accuracies.extend(melted_df.groupby('Iteration')['Accuracy'].apply(list))\n",
    "\n",
    "# Combine all accuracies into a single DataFrame, with each iteration as a row\n",
    "combined_accuracies = pd.DataFrame(accuracies).sort_index()\n",
    "\n",
    "# Ensure each list has 15 values by padding with NaN if necessary\n",
    "combined_accuracies = combined_accuracies.apply(lambda x: x[:15] if len(x) >= 15 else x + [None]*(15-len(x)), axis=1)\n",
    "\n",
    "# Give the columns appropriate names\n",
    "combined_accuracies.columns = [f'Accuracy_{i+1}' for i in range(15)]\n",
    "\n",
    "# Reset index to get 'Iteration' as a column\n",
    "combined_accuracies.reset_index(inplace=True)\n",
    "combined_accuracies.rename(columns={'index': 'Iteration'}, inplace=True)\n",
    "\n",
    "# Save the DataFrame to a new CSV file\n",
    "combined_accuracies.to_csv('../Data/consolidated_accuracies_per_iteration.csv', index=False)\n"
   ],
   "metadata": {
    "collapsed": false,
    "ExecuteTime": {
     "end_time": "2023-12-04T11:16:52.825732Z",
     "start_time": "2023-12-04T11:16:52.618774Z"
    }
   },
   "id": "d48d4b778c547bcf"
  },
  {
   "cell_type": "code",
   "execution_count": null,
   "outputs": [],
   "source": [],
   "metadata": {
    "collapsed": false,
    "ExecuteTime": {
     "end_time": "2023-12-04T11:16:52.832850Z",
     "start_time": "2023-12-04T11:16:52.828070Z"
    }
   },
   "id": "a368452385b79796"
  },
  {
   "cell_type": "code",
   "execution_count": null,
   "outputs": [],
   "source": [],
   "metadata": {
    "collapsed": false,
    "ExecuteTime": {
     "start_time": "2023-12-04T11:16:52.831518Z"
    }
   },
   "id": "6fe9718d523666ad"
  }
 ],
 "metadata": {
  "kernelspec": {
   "display_name": "Python 3",
   "language": "python",
   "name": "python3"
  },
  "language_info": {
   "codemirror_mode": {
    "name": "ipython",
    "version": 2
   },
   "file_extension": ".py",
   "mimetype": "text/x-python",
   "name": "python",
   "nbconvert_exporter": "python",
   "pygments_lexer": "ipython2",
   "version": "2.7.6"
  }
 },
 "nbformat": 4,
 "nbformat_minor": 5
}
