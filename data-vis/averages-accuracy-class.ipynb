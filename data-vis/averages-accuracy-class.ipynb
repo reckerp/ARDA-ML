{
 "cells": [
  {
   "cell_type": "code",
   "execution_count": 40,
   "id": "initial_id",
   "metadata": {
    "collapsed": true,
    "ExecuteTime": {
     "end_time": "2023-11-27T12:51:12.348824Z",
     "start_time": "2023-11-27T12:51:12.341618Z"
    }
   },
   "outputs": [],
   "source": [
    "import pandas as pd\n",
    "from plotnine import *"
   ]
  },
  {
   "cell_type": "code",
   "execution_count": 41,
   "outputs": [],
   "source": [
    "# DF from classes\n",
    "files = ['../Data/ARDA ML - Boat.csv', '../Data/ARDA ML - Dog.csv', '../Data/ARDA ML - Person.csv', '../Data/ARDA ML - Plant.csv', '../Data/ARDA ML - Wheel.csv']"
   ],
   "metadata": {
    "collapsed": false,
    "ExecuteTime": {
     "end_time": "2023-11-27T12:51:12.349908Z",
     "start_time": "2023-11-27T12:51:12.346360Z"
    }
   },
   "id": "b7df336037fcde80"
  },
  {
   "cell_type": "code",
   "execution_count": 42,
   "outputs": [],
   "source": [
    "# Define the columns\n",
    "columns = ['Iteration', 'Boat', 'Dog', 'Person', 'Plant', 'Wheel']\n",
    "iterations = list(range(1000, 21000, 1000))\n",
    "\n",
    "# Create an empty DataFrame with these columns 'Boat', 'Dog', 'Person', 'Plant', 'Wheel'\n",
    "df = pd.DataFrame(columns=columns)\n",
    "df['Iteration'] = iterations"
   ],
   "metadata": {
    "collapsed": false,
    "ExecuteTime": {
     "end_time": "2023-11-27T12:51:12.355248Z",
     "start_time": "2023-11-27T12:51:12.352154Z"
    }
   },
   "id": "2218b31ef0a88ae7"
  },
  {
   "cell_type": "code",
   "execution_count": 43,
   "outputs": [],
   "source": [
    "# Loop through each file\n",
    "for i, file in enumerate(files):\n",
    "    # Read the file into a DataFrame\n",
    "    data = pd.read_csv(file)\n",
    "\n",
    "    # Calculate the average\n",
    "    data['average'] = data[['Picture 1', 'Picture 2', 'Picture 3']].mean(axis=1)\n",
    "    # Add the average to the corresponding column in df\n",
    "    df[columns[i+1]] = data['average']\n",
    "\n"
   ],
   "metadata": {
    "collapsed": false,
    "ExecuteTime": {
     "end_time": "2023-11-27T12:51:12.367045Z",
     "start_time": "2023-11-27T12:51:12.356588Z"
    }
   },
   "id": "d8fb82519db92e55"
  },
  {
   "cell_type": "code",
   "execution_count": 44,
   "outputs": [],
   "source": [
    "df.to_csv(\"../Data/accuracy-averages-classes.csv\")"
   ],
   "metadata": {
    "collapsed": false,
    "ExecuteTime": {
     "end_time": "2023-11-27T12:51:12.372020Z",
     "start_time": "2023-11-27T12:51:12.368738Z"
    }
   },
   "id": "801e32f463ac42d8"
  }
 ],
 "metadata": {
  "kernelspec": {
   "display_name": "Python 3",
   "language": "python",
   "name": "python3"
  },
  "language_info": {
   "codemirror_mode": {
    "name": "ipython",
    "version": 2
   },
   "file_extension": ".py",
   "mimetype": "text/x-python",
   "name": "python",
   "nbconvert_exporter": "python",
   "pygments_lexer": "ipython2",
   "version": "2.7.6"
  }
 },
 "nbformat": 4,
 "nbformat_minor": 5
}
