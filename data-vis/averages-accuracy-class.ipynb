{
 "cells": [
  {
   "cell_type": "code",
   "execution_count": 1,
   "id": "initial_id",
   "metadata": {
    "collapsed": true,
    "ExecuteTime": {
     "end_time": "2023-11-27T13:04:58.006475Z",
     "start_time": "2023-11-27T13:04:57.630214Z"
    }
   },
   "outputs": [],
   "source": [
    "import pandas as pd"
   ]
  },
  {
   "cell_type": "code",
   "execution_count": 2,
   "outputs": [],
   "source": [
    "# DF from classes\n",
    "files = ['../Data/ARDA ML - Boat.csv', '../Data/ARDA ML - Dog.csv', '../Data/ARDA ML - Person.csv', '../Data/ARDA ML - Plant.csv', '../Data/ARDA ML - Wheel.csv']"
   ],
   "metadata": {
    "collapsed": false,
    "ExecuteTime": {
     "end_time": "2023-11-27T13:04:58.009521Z",
     "start_time": "2023-11-27T13:04:58.007706Z"
    }
   },
   "id": "b7df336037fcde80"
  },
  {
   "cell_type": "code",
   "execution_count": 3,
   "outputs": [],
   "source": [
    "# Define the columns\n",
    "columns = ['Iteration', 'Boat', 'Dog', 'Person', 'Plant', 'Wheel']\n",
    "iterations = list(range(1000, 21000, 1000))\n",
    "\n",
    "# Create an empty DataFrame with these columns 'Boat', 'Dog', 'Person', 'Plant', 'Wheel'\n",
    "df = pd.DataFrame(columns=columns)\n",
    "df['Iteration'] = iterations"
   ],
   "metadata": {
    "collapsed": false,
    "ExecuteTime": {
     "end_time": "2023-11-27T13:04:58.014586Z",
     "start_time": "2023-11-27T13:04:58.012975Z"
    }
   },
   "id": "2218b31ef0a88ae7"
  },
  {
   "cell_type": "code",
   "execution_count": 4,
   "outputs": [],
   "source": [
    "# Loop through each file\n",
    "for i, file in enumerate(files):\n",
    "    # Read the file into a DataFrame\n",
    "    data = pd.read_csv(file)\n",
    "\n",
    "    # Calculate the average\n",
    "    data['average'] = data[['Picture 1', 'Picture 2', 'Picture 3']].mean(axis=1)\n",
    "    # Add the average to the corresponding column in df\n",
    "    df[columns[i+1]] = data['average']\n",
    "\n"
   ],
   "metadata": {
    "collapsed": false,
    "ExecuteTime": {
     "end_time": "2023-11-27T13:04:58.025672Z",
     "start_time": "2023-11-27T13:04:58.016506Z"
    }
   },
   "id": "d8fb82519db92e55"
  },
  {
   "cell_type": "code",
   "execution_count": 5,
   "outputs": [],
   "source": [
    "df.to_csv(\"../Data/accuracy-averages-classes.csv\", index=False)"
   ],
   "metadata": {
    "collapsed": false,
    "ExecuteTime": {
     "end_time": "2023-11-27T13:04:58.032636Z",
     "start_time": "2023-11-27T13:04:58.026536Z"
    }
   },
   "id": "801e32f463ac42d8"
  }
 ],
 "metadata": {
  "kernelspec": {
   "display_name": "Python 3",
   "language": "python",
   "name": "python3"
  },
  "language_info": {
   "codemirror_mode": {
    "name": "ipython",
    "version": 2
   },
   "file_extension": ".py",
   "mimetype": "text/x-python",
   "name": "python",
   "nbconvert_exporter": "python",
   "pygments_lexer": "ipython2",
   "version": "2.7.6"
  }
 },
 "nbformat": 4,
 "nbformat_minor": 5
}
